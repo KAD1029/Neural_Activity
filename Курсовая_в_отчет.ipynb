{
  "nbformat": 4,
  "nbformat_minor": 0,
  "metadata": {
    "colab": {
      "name": "Курсовая в отчет.ipynb",
      "provenance": [],
      "collapsed_sections": [],
      "toc_visible": true
    },
    "kernelspec": {
      "display_name": "Python 3",
      "name": "python3"
    }
  },
  "cells": [
    {
      "cell_type": "markdown",
      "metadata": {
        "id": "Y-wQ_Sx-NLsj"
      },
      "source": [
        "#Рабочий вариант"
      ]
    },
    {
      "cell_type": "markdown",
      "metadata": {
        "id": "CZqSIYOSNVPx"
      },
      "source": [
        "Начиная с этого момента и дальше находятся рабочие куски кода"
      ]
    },
    {
      "cell_type": "code",
      "metadata": {
        "id": "j9OHhxhBNipw",
        "colab": {
          "base_uri": "https://localhost:8080/"
        },
        "outputId": "3216e1d2-f7e2-49a5-e7ef-0eadb05347f4"
      },
      "source": [
        "pip install --upgrade scipy"
      ],
      "execution_count": 2,
      "outputs": [
        {
          "output_type": "stream",
          "text": [
            "Collecting scipy\n",
            "\u001b[?25l  Downloading https://files.pythonhosted.org/packages/7d/e8/43ffca541d2f208d516296950b25fe1084b35c2881f4d444c1346ca75815/scipy-1.6.3-cp37-cp37m-manylinux1_x86_64.whl (27.4MB)\n",
            "\u001b[K     |████████████████████████████████| 27.4MB 135kB/s \n",
            "\u001b[?25hRequirement already satisfied, skipping upgrade: numpy<1.23.0,>=1.16.5 in /usr/local/lib/python3.7/dist-packages (from scipy) (1.19.5)\n",
            "\u001b[31mERROR: albumentations 0.1.12 has requirement imgaug<0.2.7,>=0.2.5, but you'll have imgaug 0.2.9 which is incompatible.\u001b[0m\n",
            "Installing collected packages: scipy\n",
            "  Found existing installation: scipy 1.4.1\n",
            "    Uninstalling scipy-1.4.1:\n",
            "      Successfully uninstalled scipy-1.4.1\n",
            "Successfully installed scipy-1.6.3\n"
          ],
          "name": "stdout"
        }
      ]
    },
    {
      "cell_type": "markdown",
      "metadata": {
        "id": "ufTQzYH_NhFR"
      },
      "source": [
        "Здесь нужно перезапустиить среду выполнения, затем продолжить запускать ячейки\n",
        "Это нужно, потому что tsfresh для установки требует последнюю версию scipy, а для переустановки последней версии, нужно перезапустить среду"
      ]
    },
    {
      "cell_type": "markdown",
      "metadata": {
        "id": "dfdRuLmzOGhk"
      },
      "source": [
        "##Подключаем библиотеки"
      ]
    },
    {
      "cell_type": "code",
      "metadata": {
        "id": "oHj0gs6qOAWF"
      },
      "source": [
        "import os\n",
        "from urllib.request import urlretrieve\n",
        "import scipy\n",
        "import scipy.io as sio\n",
        "\n",
        "import numpy as np\n",
        "import pandas as pd\n",
        "\n",
        "from matplotlib import pyplot as plt"
      ],
      "execution_count": 1,
      "outputs": []
    },
    {
      "cell_type": "code",
      "metadata": {
        "id": "7bLufwuQOO3_",
        "colab": {
          "base_uri": "https://localhost:8080/",
          "height": 1000
        },
        "outputId": "97e28ee1-3147-490e-9664-0d5be4d9042b"
      },
      "source": [
        "pip install tsfresh"
      ],
      "execution_count": 2,
      "outputs": [
        {
          "output_type": "stream",
          "text": [
            "Collecting tsfresh\n",
            "\u001b[?25l  Downloading https://files.pythonhosted.org/packages/22/7f/53e845c3e19078d15e228db642ad06d5a91207a66115cb4f30a2eca28f17/tsfresh-0.18.0-py2.py3-none-any.whl (94kB)\n",
            "\u001b[K     |████████████████████████████████| 102kB 4.0MB/s \n",
            "\u001b[?25hRequirement already satisfied: scipy>=1.2.0 in /usr/local/lib/python3.7/dist-packages (from tsfresh) (1.6.3)\n",
            "Requirement already satisfied: scikit-learn>=0.22.0 in /usr/local/lib/python3.7/dist-packages (from tsfresh) (0.22.2.post1)\n",
            "Collecting distributed>=2.11.0\n",
            "\u001b[?25l  Downloading https://files.pythonhosted.org/packages/91/57/4ab1e5b6a4aee968ab7a808ca99fd85a4709c2e2b32bf6956cfd5e6c6c82/distributed-2021.6.0-py3-none-any.whl (715kB)\n",
            "\u001b[K     |████████████████████████████████| 716kB 26.7MB/s \n",
            "\u001b[?25hRequirement already satisfied: pandas>=0.25.0 in /usr/local/lib/python3.7/dist-packages (from tsfresh) (1.1.5)\n",
            "Requirement already satisfied: statsmodels>=0.9.0 in /usr/local/lib/python3.7/dist-packages (from tsfresh) (0.10.2)\n",
            "Requirement already satisfied: tqdm>=4.10.0 in /usr/local/lib/python3.7/dist-packages (from tsfresh) (4.41.1)\n",
            "Collecting matrixprofile>=1.1.10<2.0.0\n",
            "\u001b[?25l  Downloading https://files.pythonhosted.org/packages/b1/c3/43d282f0e5299f977b62e53e4dde22ddb14c90877af5b62af225fa783d8e/matrixprofile-1.1.10-cp37-cp37m-manylinux2010_x86_64.whl (1.1MB)\n",
            "\u001b[K     |████████████████████████████████| 1.1MB 36.8MB/s \n",
            "\u001b[?25hRequirement already satisfied: requests>=2.9.1 in /usr/local/lib/python3.7/dist-packages (from tsfresh) (2.23.0)\n",
            "Collecting stumpy>=1.7.2\n",
            "\u001b[?25l  Downloading https://files.pythonhosted.org/packages/4c/da/8d372a1af518930ecb3ad9acc627115450149b613ba1b9b51b4d3721218e/stumpy-1.8.0-py3-none-any.whl (94kB)\n",
            "\u001b[K     |████████████████████████████████| 102kB 10.3MB/s \n",
            "\u001b[?25hRequirement already satisfied: patsy>=0.4.1 in /usr/local/lib/python3.7/dist-packages (from tsfresh) (0.5.1)\n",
            "Requirement already satisfied: numpy>=1.15.1 in /usr/local/lib/python3.7/dist-packages (from tsfresh) (1.19.5)\n",
            "Requirement already satisfied: dask[dataframe]>=2.9.0 in /usr/local/lib/python3.7/dist-packages (from tsfresh) (2.12.0)\n",
            "Requirement already satisfied: joblib>=0.11 in /usr/local/lib/python3.7/dist-packages (from scikit-learn>=0.22.0->tsfresh) (1.0.1)\n",
            "Requirement already satisfied: toolz>=0.8.2 in /usr/local/lib/python3.7/dist-packages (from distributed>=2.11.0->tsfresh) (0.11.1)\n",
            "Requirement already satisfied: zict>=0.1.3 in /usr/local/lib/python3.7/dist-packages (from distributed>=2.11.0->tsfresh) (2.0.0)\n",
            "Requirement already satisfied: psutil>=5.0 in /usr/local/lib/python3.7/dist-packages (from distributed>=2.11.0->tsfresh) (5.4.8)\n",
            "Collecting cloudpickle>=1.5.0\n",
            "  Downloading https://files.pythonhosted.org/packages/e7/e3/898487e5dbeb612054cf2e0c188463acb358167fef749c53c8bb8918cea1/cloudpickle-1.6.0-py3-none-any.whl\n",
            "Requirement already satisfied: setuptools in /usr/local/lib/python3.7/dist-packages (from distributed>=2.11.0->tsfresh) (57.0.0)\n",
            "Requirement already satisfied: msgpack>=0.6.0 in /usr/local/lib/python3.7/dist-packages (from distributed>=2.11.0->tsfresh) (1.0.2)\n",
            "Requirement already satisfied: sortedcontainers!=2.0.0,!=2.0.1 in /usr/local/lib/python3.7/dist-packages (from distributed>=2.11.0->tsfresh) (2.4.0)\n",
            "Requirement already satisfied: tornado>=5; python_version < \"3.8\" in /usr/local/lib/python3.7/dist-packages (from distributed>=2.11.0->tsfresh) (5.1.1)\n",
            "Requirement already satisfied: click>=6.6 in /usr/local/lib/python3.7/dist-packages (from distributed>=2.11.0->tsfresh) (7.1.2)\n",
            "Requirement already satisfied: tblib>=1.6.0 in /usr/local/lib/python3.7/dist-packages (from distributed>=2.11.0->tsfresh) (1.7.0)\n",
            "Requirement already satisfied: pyyaml in /usr/local/lib/python3.7/dist-packages (from distributed>=2.11.0->tsfresh) (3.13)\n",
            "Requirement already satisfied: python-dateutil>=2.7.3 in /usr/local/lib/python3.7/dist-packages (from pandas>=0.25.0->tsfresh) (2.8.1)\n",
            "Requirement already satisfied: pytz>=2017.2 in /usr/local/lib/python3.7/dist-packages (from pandas>=0.25.0->tsfresh) (2018.9)\n",
            "Collecting protobuf==3.11.2\n",
            "\u001b[?25l  Downloading https://files.pythonhosted.org/packages/4a/14/f5c294f1e36a031f165128c25feba93b3116f15a74398d0b2747ed75744f/protobuf-3.11.2-cp37-cp37m-manylinux1_x86_64.whl (1.3MB)\n",
            "\u001b[K     |████████████████████████████████| 1.3MB 39.6MB/s \n",
            "\u001b[?25hRequirement already satisfied: matplotlib>=3.0.3 in /usr/local/lib/python3.7/dist-packages (from matrixprofile>=1.1.10<2.0.0->tsfresh) (3.2.2)\n",
            "Requirement already satisfied: urllib3!=1.25.0,!=1.25.1,<1.26,>=1.21.1 in /usr/local/lib/python3.7/dist-packages (from requests>=2.9.1->tsfresh) (1.24.3)\n",
            "Requirement already satisfied: certifi>=2017.4.17 in /usr/local/lib/python3.7/dist-packages (from requests>=2.9.1->tsfresh) (2020.12.5)\n",
            "Requirement already satisfied: chardet<4,>=3.0.2 in /usr/local/lib/python3.7/dist-packages (from requests>=2.9.1->tsfresh) (3.0.4)\n",
            "Requirement already satisfied: idna<3,>=2.5 in /usr/local/lib/python3.7/dist-packages (from requests>=2.9.1->tsfresh) (2.10)\n",
            "Requirement already satisfied: numba>=0.48 in /usr/local/lib/python3.7/dist-packages (from stumpy>=1.7.2->tsfresh) (0.51.2)\n",
            "Requirement already satisfied: six in /usr/local/lib/python3.7/dist-packages (from patsy>=0.4.1->tsfresh) (1.15.0)\n",
            "Collecting fsspec>=0.6.0; extra == \"dataframe\"\n",
            "\u001b[?25l  Downloading https://files.pythonhosted.org/packages/8e/d2/d05466997f7751a2c06a7a416b7d1f131d765f7916698d3fdcb3a4d037e5/fsspec-2021.6.0-py3-none-any.whl (114kB)\n",
            "\u001b[K     |████████████████████████████████| 122kB 32.8MB/s \n",
            "\u001b[?25hCollecting partd>=0.3.10; extra == \"dataframe\"\n",
            "  Downloading https://files.pythonhosted.org/packages/41/94/360258a68b55f47859d72b2d0b2b3cfe0ca4fbbcb81b78812bd00ae86b7c/partd-1.2.0-py3-none-any.whl\n",
            "Requirement already satisfied: heapdict in /usr/local/lib/python3.7/dist-packages (from zict>=0.1.3->distributed>=2.11.0->tsfresh) (1.0.1)\n",
            "Requirement already satisfied: cycler>=0.10 in /usr/local/lib/python3.7/dist-packages (from matplotlib>=3.0.3->matrixprofile>=1.1.10<2.0.0->tsfresh) (0.10.0)\n",
            "Requirement already satisfied: kiwisolver>=1.0.1 in /usr/local/lib/python3.7/dist-packages (from matplotlib>=3.0.3->matrixprofile>=1.1.10<2.0.0->tsfresh) (1.3.1)\n",
            "Requirement already satisfied: pyparsing!=2.0.4,!=2.1.2,!=2.1.6,>=2.0.1 in /usr/local/lib/python3.7/dist-packages (from matplotlib>=3.0.3->matrixprofile>=1.1.10<2.0.0->tsfresh) (2.4.7)\n",
            "Requirement already satisfied: llvmlite<0.35,>=0.34.0.dev0 in /usr/local/lib/python3.7/dist-packages (from numba>=0.48->stumpy>=1.7.2->tsfresh) (0.34.0)\n",
            "Collecting locket\n",
            "  Downloading https://files.pythonhosted.org/packages/50/b8/e789e45b9b9c2db75e9d9e6ceb022c8d1d7e49b2c085ce8c05600f90a96b/locket-0.2.1-py2.py3-none-any.whl\n",
            "\u001b[31mERROR: googleapis-common-protos 1.53.0 has requirement protobuf>=3.12.0, but you'll have protobuf 3.11.2 which is incompatible.\u001b[0m\n",
            "\u001b[31mERROR: google-api-core 1.26.3 has requirement protobuf>=3.12.0, but you'll have protobuf 3.11.2 which is incompatible.\u001b[0m\n",
            "\u001b[31mERROR: distributed 2021.6.0 has requirement dask==2021.06.0, but you'll have dask 2.12.0 which is incompatible.\u001b[0m\n",
            "Installing collected packages: cloudpickle, distributed, protobuf, matrixprofile, stumpy, tsfresh, fsspec, locket, partd\n",
            "  Found existing installation: cloudpickle 1.3.0\n",
            "    Uninstalling cloudpickle-1.3.0:\n",
            "      Successfully uninstalled cloudpickle-1.3.0\n",
            "  Found existing installation: distributed 1.25.3\n",
            "    Uninstalling distributed-1.25.3:\n",
            "      Successfully uninstalled distributed-1.25.3\n",
            "  Found existing installation: protobuf 3.12.4\n",
            "    Uninstalling protobuf-3.12.4:\n",
            "      Successfully uninstalled protobuf-3.12.4\n",
            "Successfully installed cloudpickle-1.6.0 distributed-2021.6.0 fsspec-2021.6.0 locket-0.2.1 matrixprofile-1.1.10 partd-1.2.0 protobuf-3.11.2 stumpy-1.8.0 tsfresh-0.18.0\n"
          ],
          "name": "stdout"
        },
        {
          "output_type": "display_data",
          "data": {
            "application/vnd.colab-display-data+json": {
              "pip_warning": {
                "packages": [
                  "google"
                ]
              }
            }
          },
          "metadata": {
            "tags": []
          }
        }
      ]
    },
    {
      "cell_type": "code",
      "metadata": {
        "id": "PWFWjqErOUNA",
        "colab": {
          "base_uri": "https://localhost:8080/"
        },
        "outputId": "53f644e5-13d7-406e-b2f2-ccafe79caf2b"
      },
      "source": [
        "from tsfresh.feature_extraction.settings import MinimalFCParameters, EfficientFCParameters, ComprehensiveFCParameters\n",
        "from tsfresh import extract_features, select_features\n",
        "import tsfresh\n",
        "\n",
        "from sklearn.neighbors import KNeighborsClassifier as KNN\n",
        "from sklearn.ensemble import RandomForestClassifier as Rand_Forest\n",
        "from sklearn.linear_model import SGDClassifier as Linear\n",
        "from sklearn.model_selection import train_test_split\n",
        "\n",
        "from random import randint"
      ],
      "execution_count": 3,
      "outputs": [
        {
          "output_type": "stream",
          "text": [
            "/usr/local/lib/python3.7/dist-packages/statsmodels/tools/_testing.py:19: FutureWarning: pandas.util.testing is deprecated. Use the functions in the public API at pandas.testing instead.\n",
            "  import pandas.util.testing as tm\n"
          ],
          "name": "stderr"
        }
      ]
    },
    {
      "cell_type": "markdown",
      "metadata": {
        "id": "Mu6XixAxOeCR"
      },
      "source": [
        "##Загружаем данные"
      ]
    },
    {
      "cell_type": "code",
      "metadata": {
        "id": "O6EkJ4ilOjCK"
      },
      "source": [
        "Dataset_names = ['20140526_277um',\n",
        "                 '20140527_421um',\n",
        "                 '20140528_565um',\n",
        "                 'BWRat17_121712',\n",
        "                 'BWRat17_121912',\n",
        "                 'BWRat18_020513',\n",
        "                 'BWRat19_032413',\n",
        "                 'BWRat19_032513',\n",
        "                 'BWRat20_101013',\n",
        "                 'BWRat20_101513',\n",
        "                 'BWRat21_121113',\n",
        "                 'BWRat21_121613',\n",
        "                 'Bogey_012615',\n",
        "                 'Dino_061914_ACC',\n",
        "                 'Dino_061914_mPFC',\n",
        "                 'Dino_062014_ACC',\n",
        "                 'Dino_062014_mPFC',\n",
        "                 'Dino_072114_mPFC',\n",
        "                 'Dino_072314_mPFC',\n",
        "                 'Dino_072414_mPFC',\n",
        "                 'Rizzo_022615',\n",
        "                 'Rizzo_022715',\n",
        "                 'Splinter_020515',\n",
        "                 'Splinter_020915',\n",
        "                 'Templeton_032415']\n",
        "Dataset_size = [0] * len(Dataset_names)"
      ],
      "execution_count": 4,
      "outputs": []
    },
    {
      "cell_type": "code",
      "metadata": {
        "id": "POXLC-bZO0fv"
      },
      "source": [
        "os.makedirs(\"Data_mat\",exist_ok=True) \n",
        "for i in range(len(Dataset_names)):\n",
        "  data_url = \"https://raw.githubusercontent.com/KAD1029/Neural_Activity/master/All_Mat_Files/{}/{}\".format(Dataset_names[i], Dataset_names[i])\n",
        "  data_path = \"Data_mat/{}\".format(Dataset_names[i])\n",
        "  urlretrieve(data_url + '_CellIDs.mat', data_path + '_CellIDs.mat')\n",
        "  urlretrieve(data_url + '_SStable.mat', data_path + '_SStable.mat')\n",
        "os.makedirs(\"Data_csv\",exist_ok=True)\n",
        "os.makedirs(\"Types_csv\", exist_ok=True)"
      ],
      "execution_count": 5,
      "outputs": []
    },
    {
      "cell_type": "code",
      "metadata": {
        "id": "NZhavphlO3ak"
      },
      "source": [
        "for i in range(len(Dataset_names)):\n",
        "  Mat_file = sio.loadmat(f'Data_mat/{Dataset_names[i]}_SStable.mat')\n",
        "  ar = Mat_file['S_CellFormat'][0]\n",
        "  Dataset_size[i] = len(ar)\n",
        "  for k in range(Dataset_size[i]):\n",
        "    np.savetxt(f\"Data_csv/Neuron_data_{i}_{k}.csv\", ar[k], delimiter=\"\\n\")"
      ],
      "execution_count": 6,
      "outputs": []
    },
    {
      "cell_type": "code",
      "metadata": {
        "id": "EdGXXprkO6E4"
      },
      "source": [
        "for i in range(len(Dataset_names)):\n",
        "  Mat_file = sio.loadmat(f'Data_mat/{Dataset_names[i]}_CellIDs.mat')\n",
        "  ar = Mat_file['CellIDs'][0][0]\n",
        "  neuron_types = []\n",
        "  for k in range(1, Dataset_size[i] + 1):\n",
        "    if k in ar[4] :\n",
        "      neuron_types.append(1)\n",
        "    else:\n",
        "      neuron_types.append(-1)\n",
        "  np.savetxt(f\"Types_csv/Neuron_types_{i}.csv\", neuron_types, delimiter=\"\\n\")"
      ],
      "execution_count": 7,
      "outputs": []
    },
    {
      "cell_type": "markdown",
      "metadata": {
        "id": "X98FBlN6PAbS"
      },
      "source": [
        "##Преобразуем данные в удобный вид"
      ]
    },
    {
      "cell_type": "code",
      "metadata": {
        "id": "KKFPKxUHPROB"
      },
      "source": [
        "Neuron_data = []\n",
        "for i in range(len(Dataset_names)):\n",
        "  for k in range(Dataset_size[i]):\n",
        "    f = open(f\"Data_csv/Neuron_data_{i}_{k}.csv\")\n",
        "    tmp = list(map(float, f.read().split()))\n",
        "    Neuron_data.append(tmp)"
      ],
      "execution_count": 8,
      "outputs": []
    },
    {
      "cell_type": "code",
      "metadata": {
        "id": "QZJfV15PPTad"
      },
      "source": [
        "Neuron_types = []\n",
        "for i in range(len(Dataset_names)):\n",
        "  f = open(f\"Types_csv/Neuron_types_{i}.csv\")\n",
        "  tmp = list(map(float, f.read().split()))\n",
        "\n",
        "  Neuron_types += tmp"
      ],
      "execution_count": 9,
      "outputs": []
    },
    {
      "cell_type": "markdown",
      "metadata": {
        "id": "ZLT9og6UPi7P"
      },
      "source": [
        "##Готовим данные к обучению"
      ]
    },
    {
      "cell_type": "code",
      "metadata": {
        "id": "8vZxX-TJPlwx"
      },
      "source": [
        "tmp1 = []\n",
        "tmp2 = []\n",
        "for i in range(int(len(Neuron_data))):\n",
        "  tmp1 += Neuron_data[i]\n",
        "  tmp2 += [i] * len(Neuron_data[i])\n",
        "\n",
        "X = pd.DataFrame()\n",
        "X[0] = pd.Series(tmp1)\n",
        "X[1] = pd.Series(tmp2)"
      ],
      "execution_count": 10,
      "outputs": []
    },
    {
      "cell_type": "code",
      "metadata": {
        "colab": {
          "base_uri": "https://localhost:8080/"
        },
        "id": "Hg0gsxB-B-SE",
        "outputId": "5ebf39c5-5e6e-4f8c-96bf-de67c3b7802d"
      },
      "source": [
        "X_ts_main = [X]\n",
        "noise_list = [0, 0.1, 1.0, 10.0, 100.0]\n",
        "\n",
        "for i in range(1, len(noise_list)) :\n",
        "  X_tmp = X.copy()\n",
        "  noise = np.random.normal(0, noise_list[i], X_tmp[0].shape)\n",
        "  X_tmp[0] = X_tmp[0] + noise\n",
        "  X_ts_main.append(X_tmp)\n",
        "\n",
        "for k in range(len(X_ts_main)) :\n",
        "  print(f'{noise_list[k]:<10}', end = '   ')\n",
        "\n",
        "print('\\n')\n",
        "\n",
        "for i in range(40) :\n",
        "  for k in range(len(X_ts_main)) :\n",
        "    print(f'{X_ts_main[k][0][i]:<10.5f}', end = '   ')\n",
        "  print()"
      ],
      "execution_count": 11,
      "outputs": [
        {
          "output_type": "stream",
          "text": [
            "0            0.1          1.0          10.0         100.0        \n",
            "\n",
            "5.68395      5.73766      5.29158      9.28734      12.75134     \n",
            "13.38375     13.36204     13.59209     20.57390     160.11045    \n",
            "13.47865     13.52331     13.83989     15.17467     -82.48689    \n",
            "24.32115     24.23553     24.67141     27.53929     54.58616     \n",
            "25.74335     25.79717     24.84439     23.83126     -31.14486    \n",
            "39.11725     39.05437     38.85659     38.34101     -54.39278    \n",
            "39.61440     39.67242     41.16199     50.64992     -48.62093    \n",
            "51.89055     51.85101     51.87399     54.75079     -80.34842    \n",
            "70.55300     70.59888     71.86240     65.37327     124.45576    \n",
            "75.34245     75.40112     74.31022     78.48829     40.89552     \n",
            "77.81465     77.65586     78.78061     79.54371     157.69699    \n",
            "77.83560     77.99848     76.95132     90.13829     174.76323    \n",
            "85.85180     85.80884     85.39981     89.45837     91.81142     \n",
            "88.98765     88.99219     88.55420     74.60266     206.81323    \n",
            "89.16775     89.12617     90.14242     100.65383    156.92880    \n",
            "93.92020     93.90945     93.09774     91.17823     -168.33741   \n",
            "100.05350    99.96609     101.26864    82.93099     74.26250     \n",
            "102.21585    102.13753    101.48603    106.45064    161.91282    \n",
            "106.41560    106.19642    105.97079    98.75708     300.25201    \n",
            "118.87195    118.93964    117.80335    118.90676    34.41448     \n",
            "128.15730    128.28193    127.31579    131.19973    53.69786     \n",
            "129.93860    129.82803    130.05257    138.17546    72.63180     \n",
            "148.52015    148.60816    149.66874    155.46786    87.29706     \n",
            "153.92880    153.90348    154.35787    141.08629    77.40969     \n",
            "155.64975    155.70111    154.53868    179.00188    243.83804    \n",
            "158.98665    158.82667    159.09767    147.27022    81.16126     \n",
            "160.95175    161.00181    161.13335    160.69766    261.51593    \n",
            "163.24260    163.32178    163.10497    169.17573    269.10512    \n",
            "168.26645    168.26886    166.52536    170.93165    134.58327    \n",
            "170.18085    170.15835    168.02759    162.49668    61.74353     \n",
            "171.88200    171.89651    172.55688    163.50899    250.17030    \n",
            "194.02565    194.12357    193.22922    186.32071    234.53102    \n",
            "213.32970    213.23610    212.10074    194.59104    52.83461     \n",
            "214.56775    214.54415    214.76243    202.84926    156.44177    \n",
            "214.57970    214.35510    213.28886    217.94429    203.43823    \n",
            "216.46330    216.53134    216.77454    227.61581    228.84218    \n",
            "222.10030    222.22749    222.73591    208.12223    194.68515    \n",
            "222.24525    222.26261    224.49042    218.90892    265.96045    \n",
            "227.32510    227.22023    227.70781    234.09608    261.81427    \n",
            "228.55390    228.68110    227.15349    224.82925    186.63928    \n"
          ],
          "name": "stdout"
        }
      ]
    },
    {
      "cell_type": "code",
      "metadata": {
        "colab": {
          "base_uri": "https://localhost:8080/",
          "height": 266
        },
        "id": "r6Dc6sKBKRxU",
        "outputId": "f493d2d5-4024-4eed-9670-6734c6a4cf7d"
      },
      "source": [
        "X_plot = [i for i in range(len(Neuron_data[0]))]\n",
        "plt.plot(X_plot, X_ts_main[0][0][0 : len(Neuron_data[0])])\n",
        "plt.show()"
      ],
      "execution_count": 12,
      "outputs": [
        {
          "output_type": "display_data",
          "data": {
            "image/png": "[encoded data removed]",
            "text/plain": [
              "<Figure size 432x288 with 1 Axes>"
            ]
          },
          "metadata": {
            "tags": [],
            "needs_background": "light"
          }
        }
      ]
    },
    {
      "cell_type": "code",
      "metadata": {
        "colab": {
          "base_uri": "https://localhost:8080/",
          "height": 378
        },
        "id": "WCVyLxbJLssX",
        "outputId": "4d01a6c6-efbf-4307-e7f3-ce7543e49689"
      },
      "source": [
        "fig = plt.figure(figsize=(20, 7))\n",
        "\n",
        "for iter in range(2, len(X_ts_main) + 1) :\n",
        "  ax = fig.add_subplot(2, 2, iter - 1)\n",
        "  X_plot = [i for i in range(20)]\n",
        "  for index in range(iter) :\n",
        "    plt.plot(X_plot, X_ts_main[index][0][0 : 20], label = f'Noise : {noise_list[index]}')\n",
        "  plt.legend()\n",
        "plt.show()"
      ],
      "execution_count": 13,
      "outputs": [
        {
          "output_type": "display_data",
          "data": {
            "image/png": "[encoded data removed]",
            "text/plain": [
              "<Figure size 1440x504 with 4 Axes>"
            ]
          },
          "metadata": {
            "tags": [],
            "needs_background": "light"
          }
        }
      ]
    },
    {
      "cell_type": "markdown",
      "metadata": {
        "id": "0ZEpwilbPrfa"
      },
      "source": [
        "Здесь выделяются признаки, за исключением тех, которые очень долго извлекаются"
      ]
    },
    {
      "cell_type": "code",
      "metadata": {
        "id": "oc2Ttd3JPrJk",
        "colab": {
          "base_uri": "https://localhost:8080/"
        },
        "outputId": "44850600-5761-4e9d-ab33-8c47ed353ad8"
      },
      "source": [
        "params = []\n",
        "bad_params = [32, 35, 44, 45, 57, 62, 69, 71, 72, 73]\n",
        "for elem in ComprehensiveFCParameters() :\n",
        "  params.append(elem)\n",
        "\n",
        "settings = ComprehensiveFCParameters()\n",
        "\n",
        "for bad_param in bad_params :\n",
        "  del settings[params[bad_param]]\n",
        "\n",
        "X = extract_features(X, column_id=1, default_fc_parameters=settings, n_jobs = 10)\n",
        "Y = pd.Series(Neuron_types)"
      ],
      "execution_count": null,
      "outputs": [
        {
          "output_type": "stream",
          "text": [
            "Feature Extraction: 100%|██████████| 50/50 [09:22<00:00, 11.26s/it]\n"
          ],
          "name": "stderr"
        }
      ]
    },
    {
      "cell_type": "code",
      "metadata": {
        "colab": {
          "base_uri": "https://localhost:8080/"
        },
        "id": "RMypWp72ERgz",
        "outputId": "07a17c0a-1817-4af3-a6a3-3a0b976adc52"
      },
      "source": [
        "X_main = [X.copy()]\n",
        "for i in range(1, len(X_ts_main)) :\n",
        "  X_main.append(extract_features(X_ts_main[i], column_id=1, default_fc_parameters=settings, n_jobs = 10))"
      ],
      "execution_count": null,
      "outputs": [
        {
          "output_type": "stream",
          "text": [
            "Feature Extraction: 100%|██████████| 50/50 [09:36<00:00, 11.52s/it]\n",
            "Feature Extraction: 100%|██████████| 50/50 [09:52<00:00, 11.85s/it]\n",
            "Feature Extraction: 100%|██████████| 50/50 [10:01<00:00, 12.03s/it]\n",
            "Feature Extraction: 100%|██████████| 50/50 [10:24<00:00, 12.48s/it]\n"
          ],
          "name": "stderr"
        }
      ]
    },
    {
      "cell_type": "code",
      "metadata": {
        "id": "3O20Kkcto9hv"
      },
      "source": [
        "tsfresh.utilities.dataframe_functions.impute(X)"
      ],
      "execution_count": null,
      "outputs": []
    },
    {
      "cell_type": "code",
      "metadata": {
        "id": "pijDZsSAo_R1"
      },
      "source": [
        "X_main[0] = X.copy()\n",
        "for i in range(1, len(X_main)) :\n",
        "  tsfresh.utilities.dataframe_functions.impute(X_main[i])"
      ],
      "execution_count": null,
      "outputs": []
    },
    {
      "cell_type": "markdown",
      "metadata": {
        "id": "UQjlBkcCP-DL"
      },
      "source": [
        "##Обучение"
      ]
    },
    {
      "cell_type": "code",
      "metadata": {
        "id": "ARpjb0mdZLFf"
      },
      "source": [
        "Models = [\n",
        "          ['Случайный лес (n = 10)', Rand_Forest(10)],\n",
        "          ['Случайный лес (n = 100)', Rand_Forest(100)],\n",
        "          ['Линейная классификация', Linear()],\n",
        "          ['KNN (k = 2, p = 2)', KNN(2, p=2)],\n",
        "          ['KNN (k = 5, p = 1)', KNN(5, p=1)],\n",
        "          ['KNN (k = 1, p = 1)', KNN(1, p=1)]\n",
        "]"
      ],
      "execution_count": null,
      "outputs": []
    },
    {
      "cell_type": "code",
      "metadata": {
        "id": "8Hj4mIJspLX0"
      },
      "source": [
        "import random\n",
        "\n",
        "Valid_number = 5\n",
        "N_tests = 5\n",
        "\n",
        "Part_size = [int(len(X) / Valid_number)] * (Valid_number - 1)\n",
        "Part_size += [len(X) - sum(Part_size)]\n",
        "\n",
        "Part_indexes = []\n",
        "for i in range(Valid_number):\n",
        "  Part_indexes.append([])\n",
        "\n",
        "Not_full_parts = [i for i in range(Valid_number)]"
      ],
      "execution_count": null,
      "outputs": []
    },
    {
      "cell_type": "markdown",
      "metadata": {
        "id": "Kp3zu9rpQ18A"
      },
      "source": [
        "###Случайный выбор обучающей выборки"
      ]
    },
    {
      "cell_type": "code",
      "metadata": {
        "colab": {
          "base_uri": "https://localhost:8080/"
        },
        "id": "XDE5d5YzpRlx",
        "outputId": "1622b036-2f24-4256-8911-6aab2a22bd23"
      },
      "source": [
        "Accuracy = []\n",
        "\n",
        "for model_count in range(len(Models)) :\n",
        "  Accuracy.append([])\n",
        "  for noise_count in range(len(noise_list)) :\n",
        "    Accuracy[-1].append([])\n",
        "    for test_count in range(N_tests) :\n",
        "      Accuracy[-1][-1].append(0)\n",
        "\n",
        "\n",
        "for test_count in range(N_tests) :\n",
        "\n",
        "  print(f'Test_count : {test_count}')\n",
        "\n",
        "  for i in range(Valid_number):\n",
        "    Part_indexes[i] = []\n",
        "  Not_full_parts = [i for i in range(Valid_number)]\n",
        "\n",
        "  for i in range(len(X)):\n",
        "    part = random.choice(Not_full_parts)\n",
        "    Part_indexes[part].append(i)\n",
        "    if (len(Part_indexes[part]) == Part_size[part]):\n",
        "      Not_full_parts.remove(part)\n",
        "\n",
        "  for valid_count in range(Valid_number) :\n",
        "\n",
        "    print(f'  Valid_count : {valid_count}')\n",
        "\n",
        "    Test_indexes = Part_indexes[valid_count]\n",
        "    Train_indexes = []\n",
        "    for i in range(len(Part_indexes)):\n",
        "      if i == valid_count:\n",
        "        continue\n",
        "      Train_indexes += Part_indexes[i]\n",
        "\n",
        "    Y_train = Y[Train_indexes]\n",
        "    Y_test = Y[Test_indexes]\n",
        "    Y_train.index = [i for i in range(len(Y_train))]\n",
        "    Y_test.index = [i for i in range(len(Y_test))]\n",
        "\n",
        "    for noise_count in range(len(noise_list)) :\n",
        "\n",
        "      print(f'    Noise_count : {noise_count}')\n",
        "    \n",
        "      X_train = X_main[0].loc[Train_indexes]\n",
        "      X_test = X_main[noise_count].loc[Test_indexes]\n",
        "      X_train.index = [i for i in range(len(X_train))]\n",
        "      X_test.index = [i for i in range(len(X_test))]\n",
        "\n",
        "\n",
        "      for model_count in range(len(Models)):\n",
        "        Model = Models[model_count][1]\n",
        "        reg = Model.fit(X_train, Y_train)\n",
        "\n",
        "        Accuracy[model_count][noise_count][test_count] += reg.score(X_test, Y_test) / Valid_number\n"
      ],
      "execution_count": null,
      "outputs": [
        {
          "output_type": "stream",
          "text": [
            "Test_count : 0\n",
            "  Valid_count : 0\n",
            "    Noise_count : 0\n",
            "    Noise_count : 1\n",
            "    Noise_count : 2\n",
            "    Noise_count : 3\n",
            "    Noise_count : 4\n",
            "  Valid_count : 1\n",
            "    Noise_count : 0\n",
            "    Noise_count : 1\n",
            "    Noise_count : 2\n",
            "    Noise_count : 3\n",
            "    Noise_count : 4\n",
            "  Valid_count : 2\n",
            "    Noise_count : 0\n",
            "    Noise_count : 1\n",
            "    Noise_count : 2\n",
            "    Noise_count : 3\n",
            "    Noise_count : 4\n",
            "  Valid_count : 3\n",
            "    Noise_count : 0\n",
            "    Noise_count : 1\n",
            "    Noise_count : 2\n",
            "    Noise_count : 3\n",
            "    Noise_count : 4\n",
            "  Valid_count : 4\n",
            "    Noise_count : 0\n",
            "    Noise_count : 1\n",
            "    Noise_count : 2\n",
            "    Noise_count : 3\n",
            "    Noise_count : 4\n",
            "Test_count : 1\n",
            "  Valid_count : 0\n",
            "    Noise_count : 0\n",
            "    Noise_count : 1\n",
            "    Noise_count : 2\n",
            "    Noise_count : 3\n",
            "    Noise_count : 4\n",
            "  Valid_count : 1\n",
            "    Noise_count : 0\n",
            "    Noise_count : 1\n",
            "    Noise_count : 2\n",
            "    Noise_count : 3\n",
            "    Noise_count : 4\n",
            "  Valid_count : 2\n",
            "    Noise_count : 0\n",
            "    Noise_count : 1\n",
            "    Noise_count : 2\n",
            "    Noise_count : 3\n",
            "    Noise_count : 4\n",
            "  Valid_count : 3\n",
            "    Noise_count : 0\n",
            "    Noise_count : 1\n",
            "    Noise_count : 2\n",
            "    Noise_count : 3\n",
            "    Noise_count : 4\n",
            "  Valid_count : 4\n",
            "    Noise_count : 0\n",
            "    Noise_count : 1\n",
            "    Noise_count : 2\n",
            "    Noise_count : 3\n",
            "    Noise_count : 4\n",
            "Test_count : 2\n",
            "  Valid_count : 0\n",
            "    Noise_count : 0\n",
            "    Noise_count : 1\n",
            "    Noise_count : 2\n",
            "    Noise_count : 3\n",
            "    Noise_count : 4\n",
            "  Valid_count : 1\n",
            "    Noise_count : 0\n",
            "    Noise_count : 1\n",
            "    Noise_count : 2\n",
            "    Noise_count : 3\n",
            "    Noise_count : 4\n",
            "  Valid_count : 2\n",
            "    Noise_count : 0\n",
            "    Noise_count : 1\n",
            "    Noise_count : 2\n",
            "    Noise_count : 3\n",
            "    Noise_count : 4\n",
            "  Valid_count : 3\n",
            "    Noise_count : 0\n",
            "    Noise_count : 1\n",
            "    Noise_count : 2\n",
            "    Noise_count : 3\n",
            "    Noise_count : 4\n",
            "  Valid_count : 4\n",
            "    Noise_count : 0\n",
            "    Noise_count : 1\n",
            "    Noise_count : 2\n",
            "    Noise_count : 3\n",
            "    Noise_count : 4\n",
            "Test_count : 3\n",
            "  Valid_count : 0\n",
            "    Noise_count : 0\n",
            "    Noise_count : 1\n",
            "    Noise_count : 2\n",
            "    Noise_count : 3\n",
            "    Noise_count : 4\n",
            "  Valid_count : 1\n",
            "    Noise_count : 0\n",
            "    Noise_count : 1\n",
            "    Noise_count : 2\n",
            "    Noise_count : 3\n",
            "    Noise_count : 4\n",
            "  Valid_count : 2\n",
            "    Noise_count : 0\n",
            "    Noise_count : 1\n",
            "    Noise_count : 2\n",
            "    Noise_count : 3\n",
            "    Noise_count : 4\n",
            "  Valid_count : 3\n",
            "    Noise_count : 0\n",
            "    Noise_count : 1\n",
            "    Noise_count : 2\n",
            "    Noise_count : 3\n",
            "    Noise_count : 4\n",
            "  Valid_count : 4\n",
            "    Noise_count : 0\n",
            "    Noise_count : 1\n",
            "    Noise_count : 2\n",
            "    Noise_count : 3\n",
            "    Noise_count : 4\n",
            "Test_count : 4\n",
            "  Valid_count : 0\n",
            "    Noise_count : 0\n",
            "    Noise_count : 1\n",
            "    Noise_count : 2\n",
            "    Noise_count : 3\n",
            "    Noise_count : 4\n",
            "  Valid_count : 1\n",
            "    Noise_count : 0\n",
            "    Noise_count : 1\n",
            "    Noise_count : 2\n",
            "    Noise_count : 3\n",
            "    Noise_count : 4\n",
            "  Valid_count : 2\n",
            "    Noise_count : 0\n",
            "    Noise_count : 1\n",
            "    Noise_count : 2\n",
            "    Noise_count : 3\n",
            "    Noise_count : 4\n",
            "  Valid_count : 3\n",
            "    Noise_count : 0\n",
            "    Noise_count : 1\n",
            "    Noise_count : 2\n",
            "    Noise_count : 3\n",
            "    Noise_count : 4\n",
            "  Valid_count : 4\n",
            "    Noise_count : 0\n",
            "    Noise_count : 1\n",
            "    Noise_count : 2\n",
            "    Noise_count : 3\n",
            "    Noise_count : 4\n"
          ],
          "name": "stdout"
        }
      ]
    },
    {
      "cell_type": "code",
      "metadata": {
        "colab": {
          "base_uri": "https://localhost:8080/"
        },
        "id": "LMzx1jTQsWDL",
        "outputId": "06e83ac4-9768-439c-dbb9-2d594a974d9a"
      },
      "source": [
        "for model_count in range(len(Models)) :\n",
        "\n",
        "  print()\n",
        "  print(f'{Models[model_count][0]} : ')\n",
        "  \n",
        "  for noise_count in range(len(noise_list)) :\n",
        "\n",
        "    print(f'  Noise : {noise_list[noise_count]}')\n",
        "    print(f'    Accuracy = {sum(Accuracy[model_count][noise_count]) / N_tests}')"
      ],
      "execution_count": null,
      "outputs": [
        {
          "output_type": "stream",
          "text": [
            "\n",
            "Случайный лес (n = 10) : \n",
            "  Noise : 0\n",
            "    Accuracy = 0.9271145728643215\n",
            "  Noise : 0.1\n",
            "    Accuracy = 0.9273206030150754\n",
            "  Noise : 1.0\n",
            "    Accuracy = 0.9118783919597989\n",
            "  Noise : 10.0\n",
            "    Accuracy = 0.9104603015075377\n",
            "  Noise : 100.0\n",
            "    Accuracy = 0.8959959798994974\n",
            "\n",
            "Случайный лес (n = 100) : \n",
            "  Noise : 0\n",
            "    Accuracy = 0.9335427135678392\n",
            "  Noise : 0.1\n",
            "    Accuracy = 0.933542713567839\n",
            "  Noise : 1.0\n",
            "    Accuracy = 0.9058412060301508\n",
            "  Noise : 10.0\n",
            "    Accuracy = 0.9076462311557789\n",
            "  Noise : 100.0\n",
            "    Accuracy = 0.9118703517587938\n",
            "\n",
            "Линейная классификация : \n",
            "  Noise : 0\n",
            "    Accuracy = 0.886764824120603\n",
            "  Noise : 0.1\n",
            "    Accuracy = 0.9176763819095479\n",
            "  Noise : 1.0\n",
            "    Accuracy = 0.8952010050251257\n",
            "  Noise : 10.0\n",
            "    Accuracy = 0.9158713567839195\n",
            "  Noise : 100.0\n",
            "    Accuracy = 0.9132643216080402\n",
            "\n",
            "KNN (k = 2, p = 2) : \n",
            "  Noise : 0\n",
            "    Accuracy = 0.8732824120603014\n",
            "  Noise : 0.1\n",
            "    Accuracy = 0.8732824120603014\n",
            "  Noise : 1.0\n",
            "    Accuracy = 0.8732824120603014\n",
            "  Noise : 10.0\n",
            "    Accuracy = 0.8732824120603014\n",
            "  Noise : 100.0\n",
            "    Accuracy = 0.8732824120603014\n",
            "\n",
            "KNN (k = 5, p = 1) : \n",
            "  Noise : 0\n",
            "    Accuracy = 0.9245055276381908\n",
            "  Noise : 0.1\n",
            "    Accuracy = 0.9245055276381908\n",
            "  Noise : 1.0\n",
            "    Accuracy = 0.9245055276381908\n",
            "  Noise : 10.0\n",
            "    Accuracy = 0.9245055276381908\n",
            "  Noise : 100.0\n",
            "    Accuracy = 0.9243045226130654\n",
            "\n",
            "KNN (k = 1, p = 1) : \n",
            "  Noise : 0\n",
            "    Accuracy = 0.89558391959799\n",
            "  Noise : 0.1\n",
            "    Accuracy = 0.89558391959799\n",
            "  Noise : 1.0\n",
            "    Accuracy = 0.89558391959799\n",
            "  Noise : 10.0\n",
            "    Accuracy = 0.89558391959799\n",
            "  Noise : 100.0\n",
            "    Accuracy = 0.89558391959799\n"
          ],
          "name": "stdout"
        }
      ]
    },
    {
      "cell_type": "code",
      "metadata": {
        "colab": {
          "base_uri": "https://localhost:8080/",
          "height": 377
        },
        "id": "9TiIgJ7o2b8g",
        "outputId": "a54b2091-4441-4189-c74c-c4e3c218efb3"
      },
      "source": [
        "fig = plt.figure(figsize=(20, 7))\n",
        "ax = fig.add_subplot(1, 1, 1)\n",
        "\n",
        "ax.boxplot((Accuracy[0][0],\n",
        "            Accuracy[1][0],\n",
        "            Accuracy[2][0],\n",
        "            Accuracy[3][0],\n",
        "            Accuracy[4][0],\n",
        "            Accuracy[5][0]),\n",
        "            labels=[Models[0][0],\n",
        "                    Models[1][0],\n",
        "                    Models[2][0],\n",
        "                    Models[3][0],\n",
        "                    Models[4][0],\n",
        "                    Models[5][0]])\n",
        "\n",
        "\n",
        "plt.show()"
      ],
      "execution_count": null,
      "outputs": [
        {
          "output_type": "display_data",
          "data": {
            "image/png": "[encoded data removed]",
            "text/plain": [
              "<Figure size 1440x504 with 1 Axes>"
            ]
          },
          "metadata": {
            "tags": [],
            "needs_background": "light"
          }
        }
      ]
    },
    {
      "cell_type": "code",
      "metadata": {
        "colab": {
          "base_uri": "https://localhost:8080/",
          "height": 1000
        },
        "id": "nwtUcu6D6tSt",
        "outputId": "099e7a20-ce59-444f-e776-19c984da49da"
      },
      "source": [
        "for model_count in range(len(Models)) :\n",
        "\n",
        "  print(Models[model_count][0])\n",
        "\n",
        "  fig = plt.figure(figsize=(20, 7))\n",
        "  ax = fig.add_subplot(1, 1, 1) \n",
        "\n",
        "  ax.boxplot((Accuracy[model_count][0],\n",
        "              Accuracy[model_count][1],\n",
        "              Accuracy[model_count][2],\n",
        "              Accuracy[model_count][3],\n",
        "              Accuracy[model_count][4]),\n",
        "              labels=[f'Noise : {noise_list[0]}',\n",
        "                      f'Noise : {noise_list[1]}',\n",
        "                      f'Noise : {noise_list[2]}',\n",
        "                      f'Noise : {noise_list[3]}',\n",
        "                      f'Noise : {noise_list[4]}'])\n",
        "  plt.show()"
      ],
      "execution_count": null,
      "outputs": [
        {
          "output_type": "stream",
          "text": [
            "Случайный лес (n = 10)\n"
          ],
          "name": "stdout"
        },
        {
          "output_type": "display_data",
          "data": {
            "image/png": "[encoded data removed]",
            "text/plain": [
              "<Figure size 1440x504 with 1 Axes>"
            ]
          },
          "metadata": {
            "tags": [],
            "needs_background": "light"
          }
        },
        {
          "output_type": "stream",
          "text": [
            "Случайный лес (n = 100)\n"
          ],
          "name": "stdout"
        },
        {
          "output_type": "display_data",
          "data": {
            "image/png": "[encoded data removed]",
            "text/plain": [
              "<Figure size 1440x504 with 1 Axes>"
            ]
          },
          "metadata": {
            "tags": [],
            "needs_background": "light"
          }
        },
        {
          "output_type": "stream",
          "text": [
            "Линейная классификация\n"
          ],
          "name": "stdout"
        },
        {
          "output_type": "display_data",
          "data": {
            "image/png": "[encoded data removed]",
            "text/plain": [
              "<Figure size 1440x504 with 1 Axes>"
            ]
          },
          "metadata": {
            "tags": [],
            "needs_background": "light"
          }
        },
        {
          "output_type": "stream",
          "text": [
            "KNN (k = 2, p = 2)\n"
          ],
          "name": "stdout"
        },
        {
          "output_type": "display_data",
          "data": {
            "image/png": "[encoded data removed]",
            "text/plain": [
              "<Figure size 1440x504 with 1 Axes>"
            ]
          },
          "metadata": {
            "tags": [],
            "needs_background": "light"
          }
        },
        {
          "output_type": "stream",
          "text": [
            "KNN (k = 5, p = 1)\n"
          ],
          "name": "stdout"
        },
        {
          "output_type": "display_data",
          "data": {
            "image/png": "[encoded data removed]",
            "text/plain": [
              "<Figure size 1440x504 with 1 Axes>"
            ]
          },
          "metadata": {
            "tags": [],
            "needs_background": "light"
          }
        },
        {
          "output_type": "stream",
          "text": [
            "KNN (k = 1, p = 1)\n"
          ],
          "name": "stdout"
        },
        {
          "output_type": "display_data",
          "data": {
            "image/png": "[encoded data removed]",
            "text/plain": [
              "<Figure size 1440x504 with 1 Axes>"
            ]
          },
          "metadata": {
            "tags": [],
            "needs_background": "light"
          }
        }
      ]
    },
    {
      "cell_type": "markdown",
      "metadata": {
        "id": "f0Ru78JlRBSV"
      },
      "source": [
        "###Беру в обучающую выборку равномерно из разных животных"
      ]
    },
    {
      "cell_type": "code",
      "metadata": {
        "colab": {
          "base_uri": "https://localhost:8080/"
        },
        "id": "3g8kNe961ND3",
        "outputId": "3a6bae1b-a8e3-4d5d-dbd3-8a8460afec67"
      },
      "source": [
        "Accuracy = []\n",
        "\n",
        "for model_count in range(len(Models)) :\n",
        "  Accuracy.append([])\n",
        "  for noise_count in range(len(noise_list)) :\n",
        "    Accuracy[-1].append([])\n",
        "    for test_count in range(N_tests) :\n",
        "      Accuracy[-1][-1].append(0)\n",
        "\n",
        "\n",
        "for test_count in range(N_tests) :\n",
        "\n",
        "  print(f'Test_count : {test_count}')\n",
        "\n",
        "  Part_size = []\n",
        "  for i in range(Valid_number) :\n",
        "    Part_size.append([])\n",
        "\n",
        "  for i in range(len(Dataset_size)) :\n",
        "    for j in range(Valid_number - 1) :\n",
        "      Part_size[j] += [int(Dataset_size[i] / Valid_number)]\n",
        "    Part_size[-1] += [Dataset_size[i] - sum(Part_size[j])]\n",
        "\n",
        "  Part_indexes = []\n",
        "  for i in range(Valid_number):\n",
        "    Part_indexes.append([])\n",
        "\n",
        "  Not_full_parts = [i for i in range(Valid_number)]\n",
        "\n",
        "\n",
        "  for j in range(len(Dataset_size)) :\n",
        "    for i in range(Dataset_size[j]):\n",
        "      part = random.choice(Not_full_parts)\n",
        "      Part_indexes[part].append(i + sum(Dataset_size[0:j]))\n",
        "      if (len(Part_indexes[part]) == Part_size[part]):\n",
        "        Not_full_parts.remove(part)\n",
        "\n",
        "  for valid_count in range(Valid_number) :\n",
        "\n",
        "    print(f'  Valid_count : {valid_count}')\n",
        "\n",
        "    Test_indexes = Part_indexes[valid_count]\n",
        "    Train_indexes = []\n",
        "    for i in range(len(Part_indexes)):\n",
        "      if i == valid_count:\n",
        "        continue\n",
        "      Train_indexes += Part_indexes[i]\n",
        "\n",
        "    Y_train = Y[Train_indexes]\n",
        "    Y_test = Y[Test_indexes]\n",
        "    Y_train.index = [i for i in range(len(Y_train))]\n",
        "    Y_test.index = [i for i in range(len(Y_test))]\n",
        "\n",
        "    for noise_count in range(len(noise_list)) :\n",
        "\n",
        "      print(f'    Noise_count : {noise_count}')\n",
        "    \n",
        "      X_train = X_main[0].loc[Train_indexes]\n",
        "      X_test = X_main[noise_count].loc[Test_indexes]\n",
        "      X_train.index = [i for i in range(len(X_train))]\n",
        "      X_test.index = [i for i in range(len(X_test))]\n",
        "\n",
        "\n",
        "      for model_count in range(len(Models)):\n",
        "        Model = Models[model_count][1]\n",
        "        reg = Model.fit(X_train, Y_train)\n",
        "\n",
        "        Accuracy[model_count][noise_count][test_count] += reg.score(X_test, Y_test) / Valid_number\n"
      ],
      "execution_count": null,
      "outputs": [
        {
          "output_type": "stream",
          "text": [
            "Test_count : 0\n",
            "  Valid_count : 0\n",
            "    Noise_count : 0\n",
            "    Noise_count : 1\n",
            "    Noise_count : 2\n",
            "    Noise_count : 3\n",
            "    Noise_count : 4\n",
            "  Valid_count : 1\n",
            "    Noise_count : 0\n",
            "    Noise_count : 1\n",
            "    Noise_count : 2\n",
            "    Noise_count : 3\n",
            "    Noise_count : 4\n",
            "  Valid_count : 2\n",
            "    Noise_count : 0\n",
            "    Noise_count : 1\n",
            "    Noise_count : 2\n",
            "    Noise_count : 3\n",
            "    Noise_count : 4\n",
            "  Valid_count : 3\n",
            "    Noise_count : 0\n",
            "    Noise_count : 1\n",
            "    Noise_count : 2\n",
            "    Noise_count : 3\n",
            "    Noise_count : 4\n",
            "  Valid_count : 4\n",
            "    Noise_count : 0\n",
            "    Noise_count : 1\n",
            "    Noise_count : 2\n",
            "    Noise_count : 3\n",
            "    Noise_count : 4\n",
            "Test_count : 1\n",
            "  Valid_count : 0\n",
            "    Noise_count : 0\n",
            "    Noise_count : 1\n",
            "    Noise_count : 2\n",
            "    Noise_count : 3\n",
            "    Noise_count : 4\n",
            "  Valid_count : 1\n",
            "    Noise_count : 0\n",
            "    Noise_count : 1\n",
            "    Noise_count : 2\n",
            "    Noise_count : 3\n",
            "    Noise_count : 4\n",
            "  Valid_count : 2\n",
            "    Noise_count : 0\n",
            "    Noise_count : 1\n",
            "    Noise_count : 2\n",
            "    Noise_count : 3\n",
            "    Noise_count : 4\n",
            "  Valid_count : 3\n",
            "    Noise_count : 0\n",
            "    Noise_count : 1\n",
            "    Noise_count : 2\n",
            "    Noise_count : 3\n",
            "    Noise_count : 4\n",
            "  Valid_count : 4\n",
            "    Noise_count : 0\n",
            "    Noise_count : 1\n",
            "    Noise_count : 2\n",
            "    Noise_count : 3\n",
            "    Noise_count : 4\n",
            "Test_count : 2\n",
            "  Valid_count : 0\n",
            "    Noise_count : 0\n",
            "    Noise_count : 1\n",
            "    Noise_count : 2\n",
            "    Noise_count : 3\n",
            "    Noise_count : 4\n",
            "  Valid_count : 1\n",
            "    Noise_count : 0\n",
            "    Noise_count : 1\n",
            "    Noise_count : 2\n",
            "    Noise_count : 3\n",
            "    Noise_count : 4\n",
            "  Valid_count : 2\n",
            "    Noise_count : 0\n",
            "    Noise_count : 1\n",
            "    Noise_count : 2\n",
            "    Noise_count : 3\n",
            "    Noise_count : 4\n",
            "  Valid_count : 3\n",
            "    Noise_count : 0\n",
            "    Noise_count : 1\n",
            "    Noise_count : 2\n",
            "    Noise_count : 3\n",
            "    Noise_count : 4\n",
            "  Valid_count : 4\n",
            "    Noise_count : 0\n",
            "    Noise_count : 1\n",
            "    Noise_count : 2\n",
            "    Noise_count : 3\n",
            "    Noise_count : 4\n",
            "Test_count : 3\n",
            "  Valid_count : 0\n",
            "    Noise_count : 0\n",
            "    Noise_count : 1\n",
            "    Noise_count : 2\n",
            "    Noise_count : 3\n",
            "    Noise_count : 4\n",
            "  Valid_count : 1\n",
            "    Noise_count : 0\n",
            "    Noise_count : 1\n",
            "    Noise_count : 2\n",
            "    Noise_count : 3\n",
            "    Noise_count : 4\n",
            "  Valid_count : 2\n",
            "    Noise_count : 0\n",
            "    Noise_count : 1\n",
            "    Noise_count : 2\n",
            "    Noise_count : 3\n",
            "    Noise_count : 4\n",
            "  Valid_count : 3\n",
            "    Noise_count : 0\n",
            "    Noise_count : 1\n",
            "    Noise_count : 2\n",
            "    Noise_count : 3\n",
            "    Noise_count : 4\n",
            "  Valid_count : 4\n",
            "    Noise_count : 0\n",
            "    Noise_count : 1\n",
            "    Noise_count : 2\n",
            "    Noise_count : 3\n",
            "    Noise_count : 4\n",
            "Test_count : 4\n",
            "  Valid_count : 0\n",
            "    Noise_count : 0\n",
            "    Noise_count : 1\n",
            "    Noise_count : 2\n",
            "    Noise_count : 3\n",
            "    Noise_count : 4\n",
            "  Valid_count : 1\n",
            "    Noise_count : 0\n",
            "    Noise_count : 1\n",
            "    Noise_count : 2\n",
            "    Noise_count : 3\n",
            "    Noise_count : 4\n",
            "  Valid_count : 2\n",
            "    Noise_count : 0\n",
            "    Noise_count : 1\n",
            "    Noise_count : 2\n",
            "    Noise_count : 3\n",
            "    Noise_count : 4\n",
            "  Valid_count : 3\n",
            "    Noise_count : 0\n",
            "    Noise_count : 1\n",
            "    Noise_count : 2\n",
            "    Noise_count : 3\n",
            "    Noise_count : 4\n",
            "  Valid_count : 4\n",
            "    Noise_count : 0\n",
            "    Noise_count : 1\n",
            "    Noise_count : 2\n",
            "    Noise_count : 3\n",
            "    Noise_count : 4\n"
          ],
          "name": "stdout"
        }
      ]
    },
    {
      "cell_type": "code",
      "metadata": {
        "colab": {
          "base_uri": "https://localhost:8080/"
        },
        "id": "Z8_wpiUZ1e3a",
        "outputId": "90f123e9-f274-46a0-d596-82c83f81a921"
      },
      "source": [
        "for model_count in range(len(Models)) :\n",
        "\n",
        "  print()\n",
        "  print(f'{Models[model_count][0]} : ')\n",
        "  \n",
        "  for noise_count in range(len(noise_list)) :\n",
        "\n",
        "    print(f'  Noise : {noise_list[noise_count]}')\n",
        "    print(f'    Accuracy = {sum(Accuracy[model_count][noise_count]) / N_tests}')"
      ],
      "execution_count": null,
      "outputs": [
        {
          "output_type": "stream",
          "text": [
            "\n",
            "Случайный лес (n = 10) : \n",
            "  Noise : 0\n",
            "    Accuracy = 0.9286613271319561\n",
            "  Noise : 0.1\n",
            "    Accuracy = 0.925135634463716\n",
            "  Noise : 1.0\n",
            "    Accuracy = 0.9048233593517769\n",
            "  Noise : 10.0\n",
            "    Accuracy = 0.9119010326121237\n",
            "  Noise : 100.0\n",
            "    Accuracy = 0.8982931094147297\n",
            "\n",
            "Случайный лес (n = 100) : \n",
            "  Noise : 0\n",
            "    Accuracy = 0.934746193367148\n",
            "  Noise : 0.1\n",
            "    Accuracy = 0.9330740254796043\n",
            "  Noise : 1.0\n",
            "    Accuracy = 0.9054304779581983\n",
            "  Noise : 10.0\n",
            "    Accuracy = 0.9053108986253772\n",
            "  Noise : 100.0\n",
            "    Accuracy = 0.9116945961455428\n",
            "\n",
            "Линейная классификация : \n",
            "  Noise : 0\n",
            "    Accuracy = 0.9134070769884461\n",
            "  Noise : 0.1\n",
            "    Accuracy = 0.9033838712305734\n",
            "  Noise : 1.0\n",
            "    Accuracy = 0.9124452559033408\n",
            "  Noise : 10.0\n",
            "    Accuracy = 0.9100864122295089\n",
            "  Noise : 100.0\n",
            "    Accuracy = 0.9098665141028341\n",
            "\n",
            "KNN (k = 2, p = 2) : \n",
            "  Noise : 0\n",
            "    Accuracy = 0.871728160525846\n",
            "  Noise : 0.1\n",
            "    Accuracy = 0.871728160525846\n",
            "  Noise : 1.0\n",
            "    Accuracy = 0.871728160525846\n",
            "  Noise : 10.0\n",
            "    Accuracy = 0.871728160525846\n",
            "  Noise : 100.0\n",
            "    Accuracy = 0.8715358528335384\n",
            "\n",
            "KNN (k = 5, p = 1) : \n",
            "  Noise : 0\n",
            "    Accuracy = 0.923434750406364\n",
            "  Noise : 0.1\n",
            "    Accuracy = 0.923434750406364\n",
            "  Noise : 1.0\n",
            "    Accuracy = 0.923434750406364\n",
            "  Noise : 10.0\n",
            "    Accuracy = 0.923434750406364\n",
            "  Noise : 100.0\n",
            "    Accuracy = 0.9236270580986717\n",
            "\n",
            "KNN (k = 1, p = 1) : \n",
            "  Noise : 0\n",
            "    Accuracy = 0.894464896276783\n",
            "  Noise : 0.1\n",
            "    Accuracy = 0.894464896276783\n",
            "  Noise : 1.0\n",
            "    Accuracy = 0.894464896276783\n",
            "  Noise : 10.0\n",
            "    Accuracy = 0.894464896276783\n",
            "  Noise : 100.0\n",
            "    Accuracy = 0.894464896276783\n"
          ],
          "name": "stdout"
        }
      ]
    },
    {
      "cell_type": "code",
      "metadata": {
        "colab": {
          "base_uri": "https://localhost:8080/",
          "height": 381
        },
        "id": "RzM9cJuC7vit",
        "outputId": "a0e62aa6-8c0f-4b5d-d9e7-6475e769d9b5"
      },
      "source": [
        "fig = plt.figure(figsize=(20, 7))\n",
        "ax = fig.add_subplot(1, 1, 1)\n",
        "\n",
        "ax.boxplot((Accuracy[0][0],\n",
        "            Accuracy[1][0],\n",
        "            Accuracy[2][0],\n",
        "            Accuracy[3][0],\n",
        "            Accuracy[4][0],\n",
        "            Accuracy[5][0]),\n",
        "            labels=[Models[0][0],\n",
        "                    Models[1][0],\n",
        "                    Models[2][0],\n",
        "                    Models[3][0],\n",
        "                    Models[4][0],\n",
        "                    Models[5][0]])\n",
        "\n",
        "\n",
        "plt.show()"
      ],
      "execution_count": null,
      "outputs": [
        {
          "output_type": "display_data",
          "data": {
            "image/png": "[encoded data removed]",
            "text/plain": [
              "<Figure size 1440x504 with 1 Axes>"
            ]
          },
          "metadata": {
            "tags": [],
            "needs_background": "light"
          }
        }
      ]
    },
    {
      "cell_type": "markdown",
      "metadata": {
        "id": "Eig0sp6VRNj9"
      },
      "source": [
        "###Беру 2 животных для обучающей, остальное в тестовую"
      ]
    },
    {
      "cell_type": "code",
      "metadata": {
        "colab": {
          "base_uri": "https://localhost:8080/"
        },
        "id": "W-UwbLfV1pDv",
        "outputId": "1a329809-d3b4-47fd-cbcf-20da1143efaa"
      },
      "source": [
        "Accuracy = []\n",
        "\n",
        "for model_count in range(len(Models)) :\n",
        "  Accuracy.append([])\n",
        "  for noise_count in range(len(noise_list)) :\n",
        "    Accuracy[-1].append([])\n",
        "    for test_count in range(N_tests) :\n",
        "      Accuracy[-1][-1].append(0)\n",
        "\n",
        "\n",
        "for test_count in range(N_tests) :\n",
        "\n",
        "  print(f'Test_count : {test_count}')\n",
        "\n",
        "  Train_number = 2\n",
        "\n",
        "  Part_indexes = []\n",
        "  for i in range(Valid_number):\n",
        "    Part_indexes.append([])\n",
        "\n",
        "  for i in range(Valid_number) :\n",
        "    parts = [k for k in range(len(Dataset_size))]\n",
        "    for j in range(Train_number) :\n",
        "      part = random.choice(parts)\n",
        "      parts.remove(part)\n",
        "      Part_indexes[i] += [k + sum(Dataset_size[0:part]) for k in range(Dataset_size[part])]\n",
        "\n",
        "  for valid_count in range(Valid_number) :\n",
        "\n",
        "    print(f'  Valid_count : {valid_count}')\n",
        "\n",
        "    Test_indexes = Part_indexes[valid_count]\n",
        "    Train_indexes = []\n",
        "    for i in range(len(Part_indexes)):\n",
        "      if i == valid_count:\n",
        "        continue\n",
        "      Train_indexes += Part_indexes[i]\n",
        "\n",
        "    Y_train = Y[Train_indexes]\n",
        "    Y_test = Y[Test_indexes]\n",
        "    Y_train.index = [i for i in range(len(Y_train))]\n",
        "    Y_test.index = [i for i in range(len(Y_test))]\n",
        "\n",
        "    for noise_count in range(len(noise_list)) :\n",
        "\n",
        "      print(f'    Noise_count : {noise_count}')\n",
        "    \n",
        "      X_train = X_main[0].loc[Train_indexes]\n",
        "      X_test = X_main[noise_count].loc[Test_indexes]\n",
        "      X_train.index = [i for i in range(len(X_train))]\n",
        "      X_test.index = [i for i in range(len(X_test))]\n",
        "\n",
        "\n",
        "      for model_count in range(len(Models)):\n",
        "        Model = Models[model_count][1]\n",
        "        reg = Model.fit(X_train, Y_train)\n",
        "\n",
        "        Accuracy[model_count][noise_count][test_count] += reg.score(X_test, Y_test) / Valid_number\n"
      ],
      "execution_count": null,
      "outputs": [
        {
          "output_type": "stream",
          "text": [
            "Test_count : 0\n",
            "  Valid_count : 0\n",
            "    Noise_count : 0\n",
            "    Noise_count : 1\n",
            "    Noise_count : 2\n",
            "    Noise_count : 3\n",
            "    Noise_count : 4\n",
            "  Valid_count : 1\n",
            "    Noise_count : 0\n",
            "    Noise_count : 1\n",
            "    Noise_count : 2\n",
            "    Noise_count : 3\n",
            "    Noise_count : 4\n",
            "  Valid_count : 2\n",
            "    Noise_count : 0\n",
            "    Noise_count : 1\n",
            "    Noise_count : 2\n",
            "    Noise_count : 3\n",
            "    Noise_count : 4\n",
            "  Valid_count : 3\n",
            "    Noise_count : 0\n",
            "    Noise_count : 1\n",
            "    Noise_count : 2\n",
            "    Noise_count : 3\n",
            "    Noise_count : 4\n",
            "  Valid_count : 4\n",
            "    Noise_count : 0\n",
            "    Noise_count : 1\n",
            "    Noise_count : 2\n",
            "    Noise_count : 3\n",
            "    Noise_count : 4\n",
            "Test_count : 1\n",
            "  Valid_count : 0\n",
            "    Noise_count : 0\n",
            "    Noise_count : 1\n",
            "    Noise_count : 2\n",
            "    Noise_count : 3\n",
            "    Noise_count : 4\n",
            "  Valid_count : 1\n",
            "    Noise_count : 0\n",
            "    Noise_count : 1\n",
            "    Noise_count : 2\n",
            "    Noise_count : 3\n",
            "    Noise_count : 4\n",
            "  Valid_count : 2\n",
            "    Noise_count : 0\n",
            "    Noise_count : 1\n",
            "    Noise_count : 2\n",
            "    Noise_count : 3\n",
            "    Noise_count : 4\n",
            "  Valid_count : 3\n",
            "    Noise_count : 0\n",
            "    Noise_count : 1\n",
            "    Noise_count : 2\n",
            "    Noise_count : 3\n",
            "    Noise_count : 4\n",
            "  Valid_count : 4\n",
            "    Noise_count : 0\n",
            "    Noise_count : 1\n",
            "    Noise_count : 2\n",
            "    Noise_count : 3\n",
            "    Noise_count : 4\n",
            "Test_count : 2\n",
            "  Valid_count : 0\n",
            "    Noise_count : 0\n",
            "    Noise_count : 1\n",
            "    Noise_count : 2\n",
            "    Noise_count : 3\n",
            "    Noise_count : 4\n",
            "  Valid_count : 1\n",
            "    Noise_count : 0\n",
            "    Noise_count : 1\n",
            "    Noise_count : 2\n",
            "    Noise_count : 3\n",
            "    Noise_count : 4\n",
            "  Valid_count : 2\n",
            "    Noise_count : 0\n",
            "    Noise_count : 1\n",
            "    Noise_count : 2\n",
            "    Noise_count : 3\n",
            "    Noise_count : 4\n",
            "  Valid_count : 3\n",
            "    Noise_count : 0\n",
            "    Noise_count : 1\n",
            "    Noise_count : 2\n",
            "    Noise_count : 3\n",
            "    Noise_count : 4\n",
            "  Valid_count : 4\n",
            "    Noise_count : 0\n",
            "    Noise_count : 1\n",
            "    Noise_count : 2\n",
            "    Noise_count : 3\n",
            "    Noise_count : 4\n",
            "Test_count : 3\n",
            "  Valid_count : 0\n",
            "    Noise_count : 0\n",
            "    Noise_count : 1\n",
            "    Noise_count : 2\n",
            "    Noise_count : 3\n",
            "    Noise_count : 4\n",
            "  Valid_count : 1\n",
            "    Noise_count : 0\n",
            "    Noise_count : 1\n",
            "    Noise_count : 2\n",
            "    Noise_count : 3\n",
            "    Noise_count : 4\n",
            "  Valid_count : 2\n",
            "    Noise_count : 0\n",
            "    Noise_count : 1\n",
            "    Noise_count : 2\n",
            "    Noise_count : 3\n",
            "    Noise_count : 4\n",
            "  Valid_count : 3\n",
            "    Noise_count : 0\n",
            "    Noise_count : 1\n",
            "    Noise_count : 2\n",
            "    Noise_count : 3\n",
            "    Noise_count : 4\n",
            "  Valid_count : 4\n",
            "    Noise_count : 0\n",
            "    Noise_count : 1\n",
            "    Noise_count : 2\n",
            "    Noise_count : 3\n",
            "    Noise_count : 4\n",
            "Test_count : 4\n",
            "  Valid_count : 0\n",
            "    Noise_count : 0\n",
            "    Noise_count : 1\n",
            "    Noise_count : 2\n",
            "    Noise_count : 3\n",
            "    Noise_count : 4\n",
            "  Valid_count : 1\n",
            "    Noise_count : 0\n",
            "    Noise_count : 1\n",
            "    Noise_count : 2\n",
            "    Noise_count : 3\n",
            "    Noise_count : 4\n",
            "  Valid_count : 2\n",
            "    Noise_count : 0\n",
            "    Noise_count : 1\n",
            "    Noise_count : 2\n",
            "    Noise_count : 3\n",
            "    Noise_count : 4\n",
            "  Valid_count : 3\n",
            "    Noise_count : 0\n",
            "    Noise_count : 1\n",
            "    Noise_count : 2\n",
            "    Noise_count : 3\n",
            "    Noise_count : 4\n",
            "  Valid_count : 4\n",
            "    Noise_count : 0\n",
            "    Noise_count : 1\n",
            "    Noise_count : 2\n",
            "    Noise_count : 3\n",
            "    Noise_count : 4\n"
          ],
          "name": "stdout"
        }
      ]
    },
    {
      "cell_type": "code",
      "metadata": {
        "colab": {
          "base_uri": "https://localhost:8080/"
        },
        "id": "LjxdkPkU14l4",
        "outputId": "925c031c-be5e-4386-c233-458cc7116982"
      },
      "source": [
        "for model_count in range(len(Models)) :\n",
        "\n",
        "  print()\n",
        "  print(f'{Models[model_count][0]} : ')\n",
        "  \n",
        "  for noise_count in range(len(noise_list)) :\n",
        "\n",
        "    print(f'  Noise : {noise_list[noise_count]}')\n",
        "    print(f'    Accuracy = {sum(Accuracy[model_count][noise_count]) / N_tests}')"
      ],
      "execution_count": null,
      "outputs": [
        {
          "output_type": "stream",
          "text": [
            "\n",
            "Случайный лес (n = 10) : \n",
            "  Noise : 0\n",
            "    Accuracy = 0.9318967931040476\n",
            "  Noise : 0.1\n",
            "    Accuracy = 0.9261211631696042\n",
            "  Noise : 1.0\n",
            "    Accuracy = 0.9188931900340342\n",
            "  Noise : 10.0\n",
            "    Accuracy = 0.9049763764926156\n",
            "  Noise : 100.0\n",
            "    Accuracy = 0.8771804379750698\n",
            "\n",
            "Случайный лес (n = 100) : \n",
            "  Noise : 0\n",
            "    Accuracy = 0.9459973343618782\n",
            "  Noise : 0.1\n",
            "    Accuracy = 0.9429632506591258\n",
            "  Noise : 1.0\n",
            "    Accuracy = 0.9004743456112054\n",
            "  Noise : 10.0\n",
            "    Accuracy = 0.8922943962893604\n",
            "  Noise : 100.0\n",
            "    Accuracy = 0.9018567453347682\n",
            "\n",
            "Линейная классификация : \n",
            "  Noise : 0\n",
            "    Accuracy = 0.8888621404306644\n",
            "  Noise : 0.1\n",
            "    Accuracy = 0.9194629711467541\n",
            "  Noise : 1.0\n",
            "    Accuracy = 0.8931633014220297\n",
            "  Noise : 10.0\n",
            "    Accuracy = 0.9068740693670575\n",
            "  Noise : 100.0\n",
            "    Accuracy = 0.9059020438589727\n",
            "\n",
            "KNN (k = 2, p = 2) : \n",
            "  Noise : 0\n",
            "    Accuracy = 0.8777055105380134\n",
            "  Noise : 0.1\n",
            "    Accuracy = 0.8777055105380134\n",
            "  Noise : 1.0\n",
            "    Accuracy = 0.8777055105380134\n",
            "  Noise : 10.0\n",
            "    Accuracy = 0.8777055105380134\n",
            "  Noise : 100.0\n",
            "    Accuracy = 0.8777055105380134\n",
            "\n",
            "KNN (k = 5, p = 1) : \n",
            "  Noise : 0\n",
            "    Accuracy = 0.8959132333977969\n",
            "  Noise : 0.1\n",
            "    Accuracy = 0.8959132333977969\n",
            "  Noise : 1.0\n",
            "    Accuracy = 0.8959132333977969\n",
            "  Noise : 10.0\n",
            "    Accuracy = 0.8959132333977969\n",
            "  Noise : 100.0\n",
            "    Accuracy = 0.8959132333977969\n",
            "\n",
            "KNN (k = 1, p = 1) : \n",
            "  Noise : 0\n",
            "    Accuracy = 0.8962050965032906\n",
            "  Noise : 0.1\n",
            "    Accuracy = 0.8962050965032906\n",
            "  Noise : 1.0\n",
            "    Accuracy = 0.8962050965032906\n",
            "  Noise : 10.0\n",
            "    Accuracy = 0.8962050965032906\n",
            "  Noise : 100.0\n",
            "    Accuracy = 0.8962050965032906\n"
          ],
          "name": "stdout"
        }
      ]
    },
    {
      "cell_type": "code",
      "metadata": {
        "colab": {
          "base_uri": "https://localhost:8080/",
          "height": 375
        },
        "id": "kyBXMEep71bI",
        "outputId": "d3a65422-9744-488c-e8a5-f887eeff465a"
      },
      "source": [
        "fig = plt.figure(figsize=(20, 7))\n",
        "ax = fig.add_subplot(1, 1, 1)\n",
        "\n",
        "ax.boxplot((Accuracy[0][0],\n",
        "            Accuracy[1][0],\n",
        "            Accuracy[2][0],\n",
        "            Accuracy[3][0],\n",
        "            Accuracy[4][0],\n",
        "            Accuracy[5][0]),\n",
        "            labels=[Models[0][0],\n",
        "                    Models[1][0],\n",
        "                    Models[2][0],\n",
        "                    Models[3][0],\n",
        "                    Models[4][0],\n",
        "                    Models[5][0]])\n",
        "\n",
        "\n",
        "plt.show()"
      ],
      "execution_count": null,
      "outputs": [
        {
          "output_type": "display_data",
          "data": {
            "image/png": "[encoded data removed]",
            "text/plain": [
              "<Figure size 1440x504 with 1 Axes>"
            ]
          },
          "metadata": {
            "tags": [],
            "needs_background": "light"
          }
        }
      ]
    }
  ]
}